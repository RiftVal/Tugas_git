{
 "cells": [
  {
   "cell_type": "code",
   "execution_count": null,
   "metadata": {},
   "outputs": [],
   "source": [
    "data_panen = {\n",
    "    'lokasi1'  : {\n",
    "        'nama_lokasi' : 'Kebun A',  \n",
    "        'Hasil_panen' : {\n",
    "            'padi' : 2000,\n",
    "            'jagung' : 800,\n",
    "            'kedelai' : 500\n",
    "        }\n",
    "    },\n",
    "    'lokasi2'  : {\n",
    "        'nama_lokasi' : 'Kebun B',  \n",
    "        'Hasil_panen' : {\n",
    "            'padi' : 1500,\n",
    "            'jagung' : 900,\n",
    "            'kedelai' : 450\n",
    "        }\n",
    "    },\n",
    "    'lokasi3'  : {\n",
    "        'nama_lokasi' : 'Kebun C',  \n",
    "        'Hasil_panen' : {\n",
    "            'padi' : 1100,\n",
    "            'jagung' : 750,\n",
    "            'kedelai' : 600\n",
    "        }\n",
    "    },\n",
    "    'lokasi4'  : {\n",
    "            'nama_lokasi' : 'Kebun D',  \n",
    "            'Hasil_panen' : {\n",
    "                'padi' : 1300,\n",
    "                'jagung' : 850,\n",
    "                'kedelai' : 500\n",
    "            }\n",
    "    },\n",
    "    'lokasi5'  : {\n",
    "        'nama_lokasi' : 'Kebun E',  \n",
    "        'Hasil_panen' : {\n",
    "            'padi' : 1400,\n",
    "            'jagung' : 950,\n",
    "            'kedelai' : 480\n",
    "        }\n",
    "    }\n",
    "}"
   ]
  },
  {
   "cell_type": "code",
   "execution_count": null,
   "metadata": {},
   "outputs": [],
   "source": [
    "for jenis,i in data_panen.items():\n",
    "    print(f\"Lokasi {i['nama_lokasi']} \\nHasil Panen Padi {i['Hasil_panen']['padi']} \\nHasil Panen jagung {i['Hasil_panen']['jagung']} \\nHasil Panen kedelai {i['Hasil_panen']['kedelai']}\\n\")\n"
   ]
  },
  {
   "cell_type": "code",
   "execution_count": null,
   "metadata": {},
   "outputs": [],
   "source": [
    "data_lokasi2 = data_panen['lokasi2']['Hasil_panen']['jagung']\n",
    "print(f\"Lokasi 2 \\nHasil Panen Jagung {data_lokasi2}\")\n"
   ]
  },
  {
   "cell_type": "code",
   "execution_count": null,
   "metadata": {},
   "outputs": [],
   "source": [
    "data_lokasi3 = data_panen['lokasi3']['nama_lokasi']\n",
    "print(f\"Lokasi 3 \\n{data_lokasi3}\")"
   ]
  },
  {
   "cell_type": "code",
   "execution_count": null,
   "metadata": {},
   "outputs": [],
   "source": [
    "for lokasi, data in data_panen.items():\n",
    "    padi = data['Hasil_panen']['padi']\n",
    "    kedelai = data['Hasil_panen']['kedelai']\n",
    "    print(f\"{data['nama_lokasi']}\\nJumlah padi: {padi}\\nJumlah kedelai: {kedelai}\\n\")\n"
   ]
  },
  {
   "cell_type": "code",
   "execution_count": 6,
   "metadata": {},
   "outputs": [
    {
     "name": "stdout",
     "output_type": "stream",
     "text": [
      "Lokasi: Kebun A, Kondisi: Memerlukan perhatian khusus\n",
      "Lokasi: Kebun B, Kondisi: Memerlukan perhatian khusus\n",
      "Lokasi: Kebun C, Kondisi: Dalam kondisi baik\n",
      "Lokasi: Kebun D, Kondisi: Memerlukan perhatian khusus\n",
      "Lokasi: Kebun E, Kondisi: Memerlukan perhatian khusus\n"
     ]
    }
   ],
   "source": [
    "for lokasi, data in data_panen.items():\n",
    "    nama_lokasi = data['nama_lokasi']\n",
    "    hasil_padi = data['Hasil_panen']['padi']\n",
    "    hasil_jagung = data['Hasil_panen']['jagung']\n",
    "\n",
    "    if hasil_padi > 1300 or hasil_jagung > 800:\n",
    "        kondisi = \"Memerlukan perhatian khusus\"\n",
    "    else:\n",
    "        kondisi = \"Dalam kondisi baik\"\n",
    "\n",
    "    print(f\"Lokasi: {nama_lokasi}, Kondisi: {kondisi}\")\n"
   ]
  }
 ],
 "metadata": {
  "kernelspec": {
   "display_name": "Python 3",
   "language": "python",
   "name": "python3"
  },
  "language_info": {
   "codemirror_mode": {
    "name": "ipython",
    "version": 3
   },
   "file_extension": ".py",
   "mimetype": "text/x-python",
   "name": "python",
   "nbconvert_exporter": "python",
   "pygments_lexer": "ipython3",
   "version": "3.12.7"
  }
 },
 "nbformat": 4,
 "nbformat_minor": 2
}
